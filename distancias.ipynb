{
 "cells": [
  {
   "cell_type": "markdown",
   "metadata": {},
   "source": [
    "# Métricas de Distância"
   ]
  },
  {
   "cell_type": "markdown",
   "metadata": {},
   "source": [
    "Métricas de distância são formas de **mensurar a dissimilaridade entre dois pontos de dados**, sendo assim essenciais para algoritmos de aprendizado de máquina como KNN, template matching e até para algoritmos de classificação como support vector machines (SVMs).\n",
    "\n",
    "Qualquer métrica de distância possui as seguintes propriedades:\n",
    "\n",
    "1. Não negatividade:\n",
    "$\\delta(x_1, x_2)\\geq0$\n",
    "\n",
    "2. Reflexibilidade:\n",
    "$\\delta(x_1, x_2)=0 \\iff x_1 = x_2$ \n",
    "\n",
    "3. Simetria\n",
    "\n",
    "4. Desigualdade Triangular"
   ]
  },
  {
   "cell_type": "markdown",
   "metadata": {},
   "source": [
    "# Matrizes de Distância"
   ]
  }
 ],
 "metadata": {
  "language_info": {
   "name": "python"
  }
 },
 "nbformat": 4,
 "nbformat_minor": 2
}
