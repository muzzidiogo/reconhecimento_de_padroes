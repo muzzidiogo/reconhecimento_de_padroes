{
 "cells": [
  {
   "cell_type": "markdown",
   "metadata": {},
   "source": [
    "# Exercício de Fixação 2 - KNN Ponderado\n",
    "*Diogo Muzzi Mortimer - 2022055394*"
   ]
  },
  {
   "cell_type": "markdown",
   "metadata": {},
   "source": [
    "KNN Ponderado\n",
    "\n",
    "$ŷ = sign(\\sum_{i = 1}^{N}\\alpha_i y_i K(x, x_i))$"
   ]
  },
  {
   "cell_type": "code",
   "execution_count": 2,
   "metadata": {},
   "outputs": [],
   "source": [
    "import numpy as np\n",
    "class myKNNp:\n",
    "    def __init__(self, X_train: np.ndarray, Y_train: np.ndarray) -> None:\n",
    "        \"\"\"\n",
    "        Classe que implementa o algoritmo KNN ponderado.\n",
    "        \n",
    "        Parameters:\n",
    "        X_train: Data matrix\n",
    "        Y_train: Labels vector\n",
    "        \"\"\"\n",
    "        self.data = X_train.copy()\n",
    "        self.labels = Y_train.flatten().copy()\n",
    "\n",
    "    def euclid_dist(self, p1: np.ndarray, p2: np.ndarray) -> float:\n",
    "        \"\"\"Calculates the distance between two data points.\"\"\"\n",
    "        return np.linalg.norm(p1 - p2)\n",
    "\n",
    "    def find_neighbours(self, point: np.ndarray, k: int) -> list[int]:\n",
    "        distances = []\n",
    "        for i, data_point in enumerate(self.data):\n",
    "            distances.append((i, self.euclid_dist(point, data_point)))\n",
    "        \n",
    "        distances.sort(key=lambda x: x[1])\n",
    "        \n",
    "        neighbours = [i for i,_ in distances[:k]]\n",
    "        return neighbours\n",
    "    def predict(self, point: np.ndarray, k: int) -> int:\n",
    "        \"\"\"Predicts the class of the given data point.\"\"\"\n",
    "        neighbors = self.find_neighbours(point, k)\n",
    "        neighbor_labels = [self.labels[i] for i in neighbors]\n",
    "        \n",
    "        # Count occurrences of each label among neighbors\n",
    "        label_counts = {}\n",
    "        for label in neighbor_labels:\n",
    "            if label in label_counts:\n",
    "                label_counts[label] += 1\n",
    "            else:\n",
    "                label_counts[label] = 1\n",
    "\n",
    "        predicted_class = max(label_counts, key=label_counts.get)\n",
    "        return predicted_class"
   ]
  }
 ],
 "metadata": {
  "kernelspec": {
   "display_name": "base",
   "language": "python",
   "name": "python3"
  },
  "language_info": {
   "codemirror_mode": {
    "name": "ipython",
    "version": 3
   },
   "file_extension": ".py",
   "mimetype": "text/x-python",
   "name": "python",
   "nbconvert_exporter": "python",
   "pygments_lexer": "ipython3",
   "version": "3.12.7"
  }
 },
 "nbformat": 4,
 "nbformat_minor": 2
}
