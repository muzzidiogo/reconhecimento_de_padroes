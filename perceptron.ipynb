{
 "cells": [
  {
   "cell_type": "markdown",
   "metadata": {},
   "source": [
    "# Exercício - Perceptron"
   ]
  },
  {
   "cell_type": "markdown",
   "metadata": {},
   "source": [
    "## Implementação do Perceptron"
   ]
  },
  {
   "cell_type": "code",
   "execution_count": null,
   "metadata": {},
   "outputs": [],
   "source": [
    "import numpy as np\n",
    "\n",
    "class myPerceptron:\n",
    "    def __init__(self, X: np.ndarray, Y: np.ndarray, eta: float, tol: float, max_epochs: int, par=1):\n",
    "        \"\"\"\n",
    "        Perceptron class.\n",
    "\n",
    "        Parameters:\n",
    "        X (ndarray): input data\n",
    "        Y (ndarray): target labels\n",
    "        eta (float): learning rate\n",
    "        tol (float): error tolerance\n",
    "        max_epochs (int): maximum number of epochs\n",
    "        \"\"\"\n",
    "        if par == 1:\n",
    "            # Add bias term to the input data\n",
    "            w = np.random.randn(X.shape[1] + 1)\n",
    "            X = np.hstack((np.ones((X.shape[0], 1)), X))\n",
    "        else:\n",
    "            w = np.random.randn(X.shape[1])\n",
    "        \n",
    "        N = len(X)\n",
    "        self.error_epoch = [tol + 1]\n",
    "        self.n_epoch = [0]\n",
    "        \n",
    "        while self.n_epoch[-1] < max_epochs and self.error_epoch[-1] > tol:\n",
    "            xseq = np.random.permutation(N)\n",
    "            ei2 = 0\n",
    "\n",
    "            for i in range(N):\n",
    "                i_rand = xseq[i]\n",
    "                err = Y[i_rand] - np.sign(np.dot(w, X[i_rand, :]))\n",
    "                w += eta * err * X[i_rand, :]\n",
    "                ei2 += err ** 2\n",
    "            self.error_epoch.append(ei2[0])\n",
    "            self.n_epoch.append(self.n_epoch[-1] + 1)\n",
    "        \n",
    "        self.w = w\n",
    "\n",
    "    def predict(self, x: np.ndarray, w: np.ndarray, par=1):\n",
    "        \"\"\"\n",
    "        Fit the model to the data.\n",
    "\n",
    "        Parameters:\n",
    "        X (ndarray): input data\n",
    "        Y (ndarray): target labels\n",
    "        \"\"\"\n",
    "        if par == 1:\n",
    "            # Add bias term to the input data\n",
    "            x = np.hstack((np.ones(x.shape), x))\n",
    "        \n",
    "        u = np.dot(x, w)\n",
    "        y = 1 * (u >= 0) \n",
    "        return y.reshape(-1, 1)  "
   ]
  },
  {
   "cell_type": "markdown",
   "metadata": {},
   "source": [
    "# Geração de duas classes gaussianas sintéticas"
   ]
  },
  {
   "cell_type": "code",
   "execution_count": 3,
   "metadata": {},
   "outputs": [
    {
     "data": {
      "text/plain": [
       "<matplotlib.collections.PathCollection at 0x79c51d82c5c0>"
      ]
     },
     "execution_count": 3,
     "metadata": {},
     "output_type": "execute_result"
    },
    {
     "data": {
      "image/png": "[encoded data removed]",
      "text/plain": [
       "<Figure size 640x480 with 1 Axes>"
      ]
     },
     "metadata": {},
     "output_type": "display_data"
    }
   ],
   "source": [
    "import matplotlib.pyplot as plt\n",
    "from utils import gen_2D_gaussians\n",
    "\n",
    "X, Y = gen_2D_gaussians()\n",
    "\n",
    "plt.scatter(X[:100, 0], X[:100, 1], c='b')\n",
    "plt.scatter(X[100:, 0], X[100:, 1], c='r')"
   ]
  },
  {
   "cell_type": "code",
   "execution_count": 15,
   "metadata": {},
   "outputs": [
    {
     "ename": "TypeError",
     "evalue": "Cannot interpret '1' as a data type",
     "output_type": "error",
     "traceback": [
      "\u001b[0;31m---------------------------------------------------------------------------\u001b[0m",
      "\u001b[0;31mTypeError\u001b[0m                                 Traceback (most recent call last)",
      "Cell \u001b[0;32mIn[15], line 2\u001b[0m\n\u001b[1;32m      1\u001b[0m \u001b[38;5;28;01mimport\u001b[39;00m \u001b[38;5;21;01mmatplotlib\u001b[39;00m\u001b[38;5;21;01m.\u001b[39;00m\u001b[38;5;21;01mpyplot\u001b[39;00m \u001b[38;5;28;01mas\u001b[39;00m \u001b[38;5;21;01mplt\u001b[39;00m\n\u001b[0;32m----> 2\u001b[0m perceptron \u001b[38;5;241m=\u001b[39m myPerceptron(X, Y, eta\u001b[38;5;241m=\u001b[39m\u001b[38;5;241m0.1\u001b[39m, tol\u001b[38;5;241m=\u001b[39m\u001b[38;5;241m0.01\u001b[39m, max_epochs\u001b[38;5;241m=\u001b[39m\u001b[38;5;241m300\u001b[39m)\n\u001b[1;32m      3\u001b[0m plt\u001b[38;5;241m.\u001b[39mplot(perceptron\u001b[38;5;241m.\u001b[39mn_epoch, perceptron\u001b[38;5;241m.\u001b[39merror_epoch)\n\u001b[1;32m      4\u001b[0m sample \u001b[38;5;241m=\u001b[39m np\u001b[38;5;241m.\u001b[39marray([\u001b[38;5;241m3\u001b[39m, \u001b[38;5;241m3\u001b[39m])\n",
      "Cell \u001b[0;32mIn[13], line 18\u001b[0m, in \u001b[0;36mmyPerceptron.__init__\u001b[0;34m(self, X, Y, eta, tol, max_epochs, par)\u001b[0m\n\u001b[1;32m     15\u001b[0m \u001b[38;5;28;01mif\u001b[39;00m par \u001b[38;5;241m==\u001b[39m \u001b[38;5;241m1\u001b[39m:\n\u001b[1;32m     16\u001b[0m     \u001b[38;5;66;03m# Add bias term to the input data\u001b[39;00m\n\u001b[1;32m     17\u001b[0m     w \u001b[38;5;241m=\u001b[39m np\u001b[38;5;241m.\u001b[39mrandom\u001b[38;5;241m.\u001b[39mrandn(X\u001b[38;5;241m.\u001b[39mshape[\u001b[38;5;241m1\u001b[39m] \u001b[38;5;241m+\u001b[39m \u001b[38;5;241m1\u001b[39m)\n\u001b[0;32m---> 18\u001b[0m     X \u001b[38;5;241m=\u001b[39m np\u001b[38;5;241m.\u001b[39mhstack((np\u001b[38;5;241m.\u001b[39mones(X\u001b[38;5;241m.\u001b[39mshape[\u001b[38;5;241m0\u001b[39m], \u001b[38;5;241m1\u001b[39m), X))\n\u001b[1;32m     19\u001b[0m \u001b[38;5;28;01melse\u001b[39;00m:\n\u001b[1;32m     20\u001b[0m     w \u001b[38;5;241m=\u001b[39m np\u001b[38;5;241m.\u001b[39mrandom\u001b[38;5;241m.\u001b[39mrandn(X\u001b[38;5;241m.\u001b[39mshape[\u001b[38;5;241m1\u001b[39m])\n",
      "File \u001b[0;32m~/anaconda3/lib/python3.12/site-packages/numpy/core/numeric.py:191\u001b[0m, in \u001b[0;36mones\u001b[0;34m(shape, dtype, order, like)\u001b[0m\n\u001b[1;32m    188\u001b[0m \u001b[38;5;28;01mif\u001b[39;00m like \u001b[38;5;129;01mis\u001b[39;00m \u001b[38;5;129;01mnot\u001b[39;00m \u001b[38;5;28;01mNone\u001b[39;00m:\n\u001b[1;32m    189\u001b[0m     \u001b[38;5;28;01mreturn\u001b[39;00m _ones_with_like(like, shape, dtype\u001b[38;5;241m=\u001b[39mdtype, order\u001b[38;5;241m=\u001b[39morder)\n\u001b[0;32m--> 191\u001b[0m a \u001b[38;5;241m=\u001b[39m empty(shape, dtype, order)\n\u001b[1;32m    192\u001b[0m multiarray\u001b[38;5;241m.\u001b[39mcopyto(a, \u001b[38;5;241m1\u001b[39m, casting\u001b[38;5;241m=\u001b[39m\u001b[38;5;124m'\u001b[39m\u001b[38;5;124munsafe\u001b[39m\u001b[38;5;124m'\u001b[39m)\n\u001b[1;32m    193\u001b[0m \u001b[38;5;28;01mreturn\u001b[39;00m a\n",
      "\u001b[0;31mTypeError\u001b[0m: Cannot interpret '1' as a data type"
     ]
    }
   ],
   "source": [
    "import matplotlib.pyplot as plt\n",
    "perceptron = myPerceptron(X, Y, eta=0.1, tol=0.01, max_epochs=300)\n",
    "plt.plot(perceptron.n_epoch, perceptron.error_epoch)\n",
    "sample = np.array([3, 3])\n",
    "print(perceptron.predict(sample, perceptron.w))"
   ]
  }
 ],
 "metadata": {
  "kernelspec": {
   "display_name": "base",
   "language": "python",
   "name": "python3"
  },
  "language_info": {
   "codemirror_mode": {
    "name": "ipython",
    "version": 3
   },
   "file_extension": ".py",
   "mimetype": "text/x-python",
   "name": "python",
   "nbconvert_exporter": "python",
   "pygments_lexer": "ipython3",
   "version": "3.12.7"
  }
 },
 "nbformat": 4,
 "nbformat_minor": 2
}
